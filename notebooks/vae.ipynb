{
 "cells": [
  {
   "cell_type": "markdown",
   "metadata": {},
   "source": [
    "# Libraries"
   ]
  },
  {
   "cell_type": "code",
   "execution_count": null,
   "metadata": {},
   "outputs": [],
   "source": [
    "import torch, os\n",
    "from torchvision import datasets\n",
    "from torchvision.utils import make_grid\n",
    "from torch.utils.data import DataLoader\n",
    "import torchvision.transforms as transforms\n",
    "\n",
    "import numpy as np\n",
    "from tqdm import tqdm\n",
    "from matplotlib import pyplot as plt\n",
    "\n",
    "import sys\n",
    "sys.path.append('..')\n",
    "from models import VAE"
   ]
  },
  {
   "cell_type": "markdown",
   "metadata": {},
   "source": [
    "# Initialize model & dataloader"
   ]
  },
  {
   "cell_type": "code",
   "execution_count": null,
   "metadata": {},
   "outputs": [],
   "source": [
    "# Model\n",
    "\n",
    "model = VAE(in_dims=784, hid_dims=100)\n",
    "model.load_state_dict(torch.load('../checkpoints/vae.pth', map_location='cpu')['state_dict'])\n",
    "model.eval();"
   ]
  },
  {
   "cell_type": "code",
   "execution_count": null,
   "metadata": {},
   "outputs": [],
   "source": [
    "# Dataloader\n",
    "\n",
    "data_dir = \"/media/antiaegis/storing/datasets/\"\n",
    "os.makedirs(data_dir, exist_ok=True)\n",
    "dataset = datasets.MNIST(data_dir, train=False, download=True,\n",
    "    transform=transforms.Compose([\n",
    "        transforms.ToTensor(),\n",
    "        transforms.Normalize((0.1307,), (0.3081,))\n",
    "]))"
   ]
  },
  {
   "cell_type": "markdown",
   "metadata": {},
   "source": [
    "# Encode and reconstruct images"
   ]
  },
  {
   "cell_type": "code",
   "execution_count": null,
   "metadata": {},
   "outputs": [],
   "source": [
    "idx = np.random.randint(0, len(dataset.targets), ())\n",
    "image, label = dataset.__getitem__(idx)\n",
    "input = image.view(1,-1)\n",
    "print(label)\n",
    "\n",
    "output = model(input)\n",
    "recons_img = output.view(28, 28).detach().cpu().numpy()\n",
    "\n",
    "plt.figure(figsize=(20,8))\n",
    "plt.subplot(1,2,1); plt.imshow(image.cpu().numpy()[0,...], vmin=0.0, vmax=1.0, cmap='gray'); plt.axis('off'); plt.title('input image')\n",
    "plt.subplot(1,2,2); plt.imshow(recons_img, vmin=0.0, vmax=1.0, cmap='gray'); plt.axis('off'); plt.title('reconstructed image')\n",
    "plt.show()"
   ]
  },
  {
   "cell_type": "markdown",
   "metadata": {},
   "source": [
    "# Generate images"
   ]
  },
  {
   "cell_type": "code",
   "execution_count": null,
   "metadata": {},
   "outputs": [],
   "source": [
    "with torch.no_grad():\n",
    "    inputs = []\n",
    "    for i in range(32):\n",
    "        input = torch.randn([1, 100])\n",
    "        inputs.append(input)\n",
    "    inputs = torch.cat(inputs, dim=0)\n",
    "    outputs = model.decoder(inputs)\n",
    "    outputs = outputs.view(-1, 1, 28, 28)\n",
    "    grid_img = make_grid(outputs.data, nrow=8, normalize=True).cpu().numpy().transpose((1,2,0))\n",
    "\n",
    "plt.figure(figsize=(20,20))\n",
    "plt.imshow(grid_img)\n",
    "plt.axis('off')\n",
    "plt.show()"
   ]
  },
  {
   "cell_type": "markdown",
   "metadata": {},
   "source": [
    "# Analysize hidden representations of classes"
   ]
  },
  {
   "cell_type": "code",
   "execution_count": null,
   "metadata": {},
   "outputs": [],
   "source": [
    "zero = np.zeros([100], np.float32)\n",
    "hiddens = {0:zero.copy(), 1:zero.copy(), 2:zero.copy(), 3:zero.copy(), 4:zero.copy(), 5:zero.copy(), 6:zero.copy(), 7:zero.copy(), 8:zero.copy(), 9:zero.copy()}\n",
    "counts = [0]*10\n",
    "\n",
    "with torch.no_grad():\n",
    "    for idx in tqdm(range(len(dataset.targets)), total=len(dataset.targets)):\n",
    "        image, label = dataset.__getitem__(idx)\n",
    "        input = image.view(1,-1)\n",
    "        z = model.represent(input).view(100).numpy()\n",
    "        hiddens[label] += z\n",
    "        counts[label] += 1"
   ]
  },
  {
   "cell_type": "code",
   "execution_count": null,
   "metadata": {},
   "outputs": [],
   "source": [
    "for i in range(10):\n",
    "    hiddens[i] /= counts[i]\n",
    "\n",
    "plt.figure(figsize=(23,12))\n",
    "for i in range(10):\n",
    "    plt.plot(hiddens[i])\n",
    "plt.legend(['0', '1', '2', '3', '4', '5', '6', '7', '8', '9'])\n",
    "plt.show()"
   ]
  },
  {
   "cell_type": "code",
   "execution_count": null,
   "metadata": {},
   "outputs": [],
   "source": []
  }
 ],
 "metadata": {
  "kernelspec": {
   "display_name": "Python 3",
   "language": "python",
   "name": "python3"
  },
  "language_info": {
   "codemirror_mode": {
    "name": "ipython",
    "version": 3
   },
   "file_extension": ".py",
   "mimetype": "text/x-python",
   "name": "python",
   "nbconvert_exporter": "python",
   "pygments_lexer": "ipython3",
   "version": "3.6.5"
  }
 },
 "nbformat": 4,
 "nbformat_minor": 2
}
